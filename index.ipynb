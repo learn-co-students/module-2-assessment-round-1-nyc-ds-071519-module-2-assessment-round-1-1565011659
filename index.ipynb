{
 "cells": [
  {
   "cell_type": "markdown",
   "metadata": {},
   "source": [
    "# Module 2 Assessment\n",
    "\n",
    "Welcome to your Mod 2 Assessment. You will be tested for your understanding of concepts and ability to solve problems that have been covered in class and in the curriculum.\n",
    "\n",
    "Use any libraries you want to solve the problems in the assessment.\n",
    "\n",
    "You will have up to two hours to complete this assessment.\n",
    "\n",
    "The sections of the assessment are:\n",
    "\n",
    "- Accessing Data Through APIs\n",
    "- Object Oriented Programming\n",
    "- SQL and Relational Databases\n",
    "- HTML, CSS and Web Scraping\n",
    "- Other Database Structures (MongoDB)\n",
    "\n",
    "In this assessment you will be exploring two datasets: Pokemon and Quotes."
   ]
  },
  {
   "cell_type": "code",
   "execution_count": 240,
   "metadata": {},
   "outputs": [],
   "source": [
    "# import the necessary libraries\n",
    "\n",
    "import requests\n",
    "import json\n",
    "import pandas as pd\n",
    "import sqlite3\n",
    "from bs4 import BeautifulSoup"
   ]
  },
  {
   "cell_type": "markdown",
   "metadata": {},
   "source": [
    "## Part 1: Accessing Data Through APIs\n",
    "\n",
    "In this section we'll be using PokeAPI to get data on Pokemon. Let's first define functions to get information from the API. Provided below is a URL that will get you started with the first 151 Pokemon! Run the cell below to see what we get."
   ]
  },
  {
   "cell_type": "code",
   "execution_count": 241,
   "metadata": {
    "scrolled": true
   },
   "outputs": [],
   "source": [
    "url = 'https://pokeapi.co/api/v2/pokemon/?limit=151'\n",
    "results = requests.get(url).json()['results']\n",
    "\n",
    "#get all pokemon names\n",
    "def save_poke_names(results):\n",
    "    pokemon_names = []\n",
    "    for result in results:\n",
    "        pokemon_names.append(result['name'])\n",
    "    return pokemon_names\n",
    "\n",
    "pokemon_names = save_poke_names(results)\n",
    "\n",
    "# create the url list\n",
    "def create_urls(pokemon_names):\n",
    "    urls = []\n",
    "    for name in pokemon_names:\n",
    "        urls.append(f'https://pokeapi.co/api/v2/pokemon/{name}/')\n",
    "    \n",
    "    return urls"
   ]
  },
  {
   "cell_type": "markdown",
   "metadata": {},
   "source": [
    "[Read the documentation here](https://pokeapi.co/) for information on navigating this API and use the API to obtain data to answer the following questions.\n",
    "\n",
    "### Accessing Data\n",
    "\n",
    "1. For any **one** Pokemon, retrieve the following information in a dictionary format with the following keys:\n",
    "    - ID\n",
    "    - Name\n",
    "    - Base experience\n",
    "    - Weight\n",
    "    - Height\n",
    "    - Types\n",
    "    - Abilities\n",
    "\n",
    "For `Types` and `Abilities`, you might want to write helper functions to have each attribute just be a list of types and a list of abilities. Your output should look like this:\n",
    "\n",
    "```\n",
    "{'id': 1, \n",
    "'name': 'bulbasaur', \n",
    "'base_experience': 64, \n",
    "'weight': 69, \n",
    "'height': 7, \n",
    "'types': ['poison', 'grass'], \n",
    "'abilities': ['chlorophyll', 'overgrow']}\n",
    "\n",
    "```\n",
    "    \n"
   ]
  },
  {
   "cell_type": "code",
   "execution_count": 242,
   "metadata": {},
   "outputs": [],
   "source": [
    "# extract from each individual pokemon URL the 'abilities'\n",
    "def p_abilities(pokemon):\n",
    "    #if one ability \n",
    "    try:\n",
    "        abilities = pokemon['abilities']['name']\n",
    "    #more than one ability\n",
    "    except:\n",
    "        abilities = []\n",
    "        for ability in pokemon['abilities']:\n",
    "            abilities.append(ability['ability']['name'])            \n",
    "    return abilities\n"
   ]
  },
  {
   "cell_type": "code",
   "execution_count": 90,
   "metadata": {},
   "outputs": [
    {
     "data": {
      "text/plain": [
       "['poison', 'grass']"
      ]
     },
     "execution_count": 90,
     "metadata": {},
     "output_type": "execute_result"
    }
   ],
   "source": [
    "# extract all the types each pokemon url has\n",
    "def p_types(pokemon):\n",
    "    try:\n",
    "        types = pokemon['types']['type']['name']\n",
    "    except:\n",
    "        types = []\n",
    "        for one in pokemon['types']:\n",
    "            types.append(one['type']['name'])\n",
    "    return types\n",
    "# bulb = requests.get('https://pokeapi.co/api/v2/pokemon/bulbasaur/').json()\n",
    "# p_types(bulb)"
   ]
  },
  {
   "cell_type": "code",
   "execution_count": 95,
   "metadata": {},
   "outputs": [
    {
     "data": {
      "text/plain": [
       "{'id': 1,\n",
       " 'name': 'bulbasaur',\n",
       " 'base_experience': 64,\n",
       " 'weight': 69,\n",
       " 'height': 7,\n",
       " 'types': ['poison', 'grass'],\n",
       " 'abilities': ['chlorophyll', 'overgrow']}"
      ]
     },
     "execution_count": 95,
     "metadata": {},
     "output_type": "execute_result"
    }
   ],
   "source": [
    "# create dictionary for a single pokemon\n",
    "def get_pokedata(url):\n",
    "    pokedex = {}\n",
    "    pokemon = requests.get(url).json()\n",
    "    pokedex['id'] = pokemon['id']\n",
    "    pokedex['name'] = pokemon['name']\n",
    "    pokedex['base_experience'] = pokemon['base_experience']\n",
    "    pokedex['weight'] = pokemon['weight']\n",
    "    pokedex['height'] = pokemon['height']\n",
    "    pokedex['types'] =  p_types(pokemon)\n",
    "    pokedex['abilities'] =  p_abilities(pokemon)\n",
    "    return  pokedex\n",
    "\n",
    "# get_pokedata('https://pokeapi.co/api/v2/pokemon/bulbasaur/')"
   ]
  },
  {
   "cell_type": "code",
   "execution_count": 102,
   "metadata": {},
   "outputs": [],
   "source": [
    "def insert_to_pokedex(url_list):\n",
    "    pokedex = []\n",
    "    for url in url_list:\n",
    "        pokedex.append(get_pokedata(url))\n",
    "    return pokedex"
   ]
  },
  {
   "cell_type": "code",
   "execution_count": 105,
   "metadata": {},
   "outputs": [
    {
     "name": "stdout",
     "output_type": "stream",
     "text": [
      "{'id': 1, 'name': 'bulbasaur', 'base_experience': 64, 'weight': 69, 'height': 7, 'types': ['poison', 'grass'], 'abilities': ['chlorophyll', 'overgrow']} {'id': 151, 'name': 'mew', 'base_experience': 270, 'weight': 40, 'height': 4, 'types': ['psychic'], 'abilities': ['synchronize']}\n"
     ]
    }
   ],
   "source": [
    "def pokeda151():\n",
    "    raw_pokemons = requests.get(url).json()['results']\n",
    "    pokemon_names = save_poke_names(raw_pokemons)\n",
    "    pokemon_urls = create_urls(pokemon_names)\n",
    "    pokedex = insert_to_pokedex(pokemon_urls)\n",
    "    return pokedex\n",
    "    \n",
    "# pokedex = pokeda151()   "
   ]
  },
  {
   "cell_type": "markdown",
   "metadata": {},
   "source": [
    "### Pagination\n",
    "\n",
    "2. Get the same information for the first **151** Pokemon as a list of dictionaries ordered by Pokemon ID. Print the first and last elements of the list. (Hint: Use pagination) Your output should save the list to a variable and look like this:\n",
    "\n",
    "```\n",
    "[{'id': 1, \n",
    "'name': 'bulbasaur', \n",
    "'base_experience': 64, \n",
    "'weight': 69, \n",
    "'height': 7, \n",
    "'types': ['poison', 'grass'], \n",
    "'abilities': ['chlorophyll', 'overgrow']}, \n",
    "{'id': 2, \n",
    "'name': 'ivysaur', \n",
    "'base_experience': 142, \n",
    "'weight': 130, \n",
    "'height': 10, \n",
    "'types': ['poison', 'grass'], \n",
    "'abilities': ['chlorophyll', 'overgrow']}, ... ]\n",
    "\n",
    "```\n",
    "\n"
   ]
  },
  {
   "cell_type": "code",
   "execution_count": 106,
   "metadata": {},
   "outputs": [],
   "source": [
    "pokedata = pokedex"
   ]
  },
  {
   "cell_type": "code",
   "execution_count": 107,
   "metadata": {},
   "outputs": [
    {
     "name": "stdout",
     "output_type": "stream",
     "text": [
      "{'id': 1, 'name': 'bulbasaur', 'base_experience': 64, 'weight': 69, 'height': 7, 'types': ['poison', 'grass'], 'abilities': ['chlorophyll', 'overgrow']} {'id': 151, 'name': 'mew', 'base_experience': 270, 'weight': 40, 'height': 4, 'types': ['psychic'], 'abilities': ['synchronize']}\n"
     ]
    }
   ],
   "source": [
    "# printing first and last elements\n",
    "print(pokedata[0], pokedata[-1])"
   ]
  },
  {
   "cell_type": "markdown",
   "metadata": {},
   "source": [
    "## Part 2: Object Oriented Programming\n",
    "\n",
    "We're going to use the data gathered in the previous section on APIs for this section on Object Oriented Programming to instantiate Pokemon objects and write instance methods.\n",
    "\n",
    "### Creating a Class\n",
    "\n",
    "1. Create a class called `Pokemon` with an `__init__` method to instantiate the following attributes:\n",
    "    - ID\n",
    "    - Name\n",
    "    - Base experience\n",
    "    - Weight\n",
    "    - Height\n",
    "    - Types\n",
    "    - Abilities\n",
    "    \n",
    "\n"
   ]
  },
  {
   "cell_type": "code",
   "execution_count": null,
   "metadata": {},
   "outputs": [],
   "source": [
    "# if you were unable to get the data from the API in the right format,\n",
    "# uncomment the code below to access a JSON file with the list of dictionaries\n",
    "\n",
    "# with open('data/pokemon.json') as f:  \n",
    "#     pokelist = json.load(f)"
   ]
  },
  {
   "cell_type": "code",
   "execution_count": 183,
   "metadata": {},
   "outputs": [],
   "source": [
    "class Pokemon:\n",
    "    def __init__(self, pokemon):\n",
    "        self.pokemon = pokemon\n",
    "        self.weight = self.Weight()\n",
    "        self.height = self.Height()\n",
    "        \n",
    "\n",
    "    def ID(self):\n",
    "        return self.pokemon['id']\n",
    "    \n",
    "    def Name(self):\n",
    "        return self.pokemon['name']\n",
    "    \n",
    "    def Base_experience(self):\n",
    "        return self.pokemon['base_experience']\n",
    "    \n",
    "    def Weight(self):\n",
    "        return self.pokemon['weight']\n",
    "    \n",
    "    def Height(self):\n",
    "        return self.pokemon['height']\n",
    "    \n",
    "    def Types(self):\n",
    "        return self.pokemon['types']\n",
    "    \n",
    "    def Abilities(self):\n",
    "        return self.pokemon['abilities']\n",
    "        \n",
    "    def bmi(self):\n",
    "        weight = self.weight*0.1\n",
    "        height = self.height*0.1\n",
    "        return round(weight/height**2, 2)\n",
    "    pass\n"
   ]
  },
  {
   "cell_type": "markdown",
   "metadata": {},
   "source": [
    "    \n",
    "### Instantiating Objects\n",
    "\n",
    "2. Using the data you obtained from the API, instantiate the first, fourth and seventh Pokemon. Assign them to the variables `bulbasaur`, `charmander` and `squirtle`."
   ]
  },
  {
   "cell_type": "code",
   "execution_count": 185,
   "metadata": {},
   "outputs": [],
   "source": [
    "bulbasaur = Pokemon(pokedata[0])\n",
    "ivysaur = Pokemon(pokedata[5])\n",
    "venusaur = Pokemon(pokedata[7])"
   ]
  },
  {
   "cell_type": "code",
   "execution_count": 150,
   "metadata": {},
   "outputs": [
    {
     "ename": "TypeError",
     "evalue": "can only concatenate str (not \"method\") to str",
     "output_type": "error",
     "traceback": [
      "\u001b[1;31m---------------------------------------------------------------------------\u001b[0m",
      "\u001b[1;31mTypeError\u001b[0m                                 Traceback (most recent call last)",
      "\u001b[1;32m<ipython-input-150-19ef874830de>\u001b[0m in \u001b[0;36m<module>\u001b[1;34m\u001b[0m\n\u001b[0;32m     13\u001b[0m          )\n\u001b[0;32m     14\u001b[0m \u001b[1;33m\u001b[0m\u001b[0m\n\u001b[1;32m---> 15\u001b[1;33m \u001b[0mprint_pokeinfo\u001b[0m\u001b[1;33m(\u001b[0m\u001b[0mbulbasaur\u001b[0m\u001b[1;33m)\u001b[0m\u001b[1;33m\u001b[0m\u001b[1;33m\u001b[0m\u001b[0m\n\u001b[0m\u001b[0;32m     16\u001b[0m \u001b[0mprint_pokeinfo\u001b[0m\u001b[1;33m(\u001b[0m\u001b[0mivysaur\u001b[0m\u001b[1;33m)\u001b[0m\u001b[1;33m\u001b[0m\u001b[1;33m\u001b[0m\u001b[0m\n\u001b[0;32m     17\u001b[0m \u001b[0mprint_pokeinfo\u001b[0m\u001b[1;33m(\u001b[0m\u001b[0mvenusaur\u001b[0m\u001b[1;33m)\u001b[0m\u001b[1;33m\u001b[0m\u001b[1;33m\u001b[0m\u001b[0m\n",
      "\u001b[1;32m<ipython-input-150-19ef874830de>\u001b[0m in \u001b[0;36mprint_pokeinfo\u001b[1;34m(pokemon_object)\u001b[0m\n\u001b[0;32m     10\u001b[0m           \u001b[1;34m'Height: '\u001b[0m \u001b[1;33m+\u001b[0m \u001b[0mstr\u001b[0m\u001b[1;33m(\u001b[0m\u001b[0mo\u001b[0m\u001b[1;33m.\u001b[0m\u001b[0mheight\u001b[0m\u001b[1;33m)\u001b[0m \u001b[1;33m+\u001b[0m \u001b[1;34m'\\n'\u001b[0m \u001b[1;33m+\u001b[0m\u001b[1;33m\u001b[0m\u001b[1;33m\u001b[0m\u001b[0m\n\u001b[0;32m     11\u001b[0m           \u001b[1;34m'Types: '\u001b[0m \u001b[1;33m+\u001b[0m \u001b[0mstr\u001b[0m\u001b[1;33m(\u001b[0m\u001b[0mo\u001b[0m\u001b[1;33m.\u001b[0m\u001b[0mtypes\u001b[0m\u001b[1;33m)\u001b[0m \u001b[1;33m+\u001b[0m \u001b[1;34m'\\n'\u001b[0m \u001b[1;33m+\u001b[0m\u001b[1;33m\u001b[0m\u001b[1;33m\u001b[0m\u001b[0m\n\u001b[1;32m---> 12\u001b[1;33m           \u001b[1;34m'Abilities: '\u001b[0m \u001b[1;33m+\u001b[0m \u001b[0mstr\u001b[0m\u001b[1;33m(\u001b[0m\u001b[0mo\u001b[0m\u001b[1;33m.\u001b[0m\u001b[0mabilities\u001b[0m\u001b[1;33m)\u001b[0m \u001b[1;33m+\u001b[0m \u001b[1;34m'\\n'\u001b[0m\u001b[1;33m\u001b[0m\u001b[1;33m\u001b[0m\u001b[0m\n\u001b[0m\u001b[0;32m     13\u001b[0m          )\n\u001b[0;32m     14\u001b[0m \u001b[1;33m\u001b[0m\u001b[0m\n",
      "\u001b[1;31mTypeError\u001b[0m: can only concatenate str (not \"method\") to str"
     ]
    }
   ],
   "source": [
    "# run this cell to test and check your code\n",
    "# you may need to edit the attribute variable names if you named them differently!\n",
    "\n",
    "def print_pokeinfo(pokemon_object):\n",
    "    o = pokemon_object\n",
    "    print('ID: ' + str(o.ID) + '\\n' +\n",
    "          'Name: ' + o.name.title() + '\\n' +\n",
    "          'Base experience: ' + str(o.exp) + '\\n' +\n",
    "          'Weight: ' + str(o.weight) + '\\n' +\n",
    "          'Height: ' + str(o.height) + '\\n' +\n",
    "          'Types: ' + str(o.types) + '\\n' +\n",
    "          'Abilities: ' + str(o.abilities) + '\\n'\n",
    "         )\n",
    "    \n",
    "print_pokeinfo(bulbasaur)\n",
    "print_pokeinfo(ivysaur)\n",
    "print_pokeinfo(venusaur)"
   ]
  },
  {
   "cell_type": "markdown",
   "metadata": {},
   "source": [
    "### Instance Methods\n",
    "\n",
    "3. Write an instance method within the class `Pokemon` to find the BMI of a Pokemon. BMI is defined by $\\frac{weight}{height^{2}}$ with weight in **kilograms** and height in **meters**. The height and weight data of Pokemon from the API is in **decimeters** and **hectograms** respectively.\n",
    "\n",
    "\n",
    "    1 decimeter = 0.1 meters\n",
    "    1 hectogram = 0.1 kilograms"
   ]
  },
  {
   "cell_type": "code",
   "execution_count": 243,
   "metadata": {},
   "outputs": [
    {
     "name": "stdout",
     "output_type": "stream",
     "text": [
      "14.08\n"
     ]
    },
    {
     "ename": "NameError",
     "evalue": "name 'charmander' is not defined",
     "output_type": "error",
     "traceback": [
      "\u001b[1;31m---------------------------------------------------------------------------\u001b[0m",
      "\u001b[1;31mNameError\u001b[0m                                 Traceback (most recent call last)",
      "\u001b[1;32m<ipython-input-243-fdf09846dfaa>\u001b[0m in \u001b[0;36m<module>\u001b[1;34m\u001b[0m\n\u001b[0;32m      3\u001b[0m \u001b[1;33m\u001b[0m\u001b[0m\n\u001b[0;32m      4\u001b[0m \u001b[0mprint\u001b[0m\u001b[1;33m(\u001b[0m\u001b[0mbulbasaur\u001b[0m\u001b[1;33m.\u001b[0m\u001b[0mbmi\u001b[0m\u001b[1;33m(\u001b[0m\u001b[1;33m)\u001b[0m\u001b[1;33m)\u001b[0m \u001b[1;31m# 14.08\u001b[0m\u001b[1;33m\u001b[0m\u001b[1;33m\u001b[0m\u001b[0m\n\u001b[1;32m----> 5\u001b[1;33m \u001b[0mprint\u001b[0m\u001b[1;33m(\u001b[0m\u001b[0mcharmander\u001b[0m\u001b[1;33m.\u001b[0m\u001b[0mbmi\u001b[0m\u001b[1;33m(\u001b[0m\u001b[1;33m)\u001b[0m\u001b[1;33m)\u001b[0m \u001b[1;31m# 23.61\u001b[0m\u001b[1;33m\u001b[0m\u001b[1;33m\u001b[0m\u001b[0m\n\u001b[0m\u001b[0;32m      6\u001b[0m \u001b[0mprint\u001b[0m\u001b[1;33m(\u001b[0m\u001b[0msquirtle\u001b[0m\u001b[1;33m.\u001b[0m\u001b[0mbmi\u001b[0m\u001b[1;33m(\u001b[0m\u001b[1;33m)\u001b[0m\u001b[1;33m)\u001b[0m \u001b[1;31m# 36\u001b[0m\u001b[1;33m\u001b[0m\u001b[1;33m\u001b[0m\u001b[0m\n",
      "\u001b[1;31mNameError\u001b[0m: name 'charmander' is not defined"
     ]
    }
   ],
   "source": [
    "# run this cell to test and check your code\n",
    "# you will probably have to rerun the code to instantiate your objects\n",
    "\n",
    "print(bulbasaur.bmi()) # 14.08\n",
    "print(charmander.bmi()) # 23.61\n",
    "print(squirtle.bmi()) # 36"
   ]
  },
  {
   "cell_type": "markdown",
   "metadata": {},
   "source": [
    "## Part 3: SQL and Relational Databases\n",
    "\n",
    "For this section, we've put the Pokemon data into SQL tables. You won't need to use your list of dictionaries or the JSON file for this section. The schema of `pokemon.db` is as follows:\n",
    "\n",
    "<img src=\"data/pokemondb.png\" alt=\"db schema\" style=\"width:500px;\"/>\n",
    "\n",
    "Assign your SQL queries as strings to the variables `q1`, `q2`, etc. and run the cells at the end of this section to print your results as Pandas DataFrames.\n",
    "\n",
    "- q1: query all columns from `Pokemon` the Pokemon that have base_experience above 200  \n",
    "\n",
    "  \n",
    "- q2: query the id, name, type1 and type2 of Pokemon that have **water** types as either their first or second type\n",
    "\n",
    "\n",
    "- q3: query the average weight of Pokemon by their first type in descending order\n",
    "\n",
    "\n",
    "- q4: query the Pokemon name, Pokemon type2, and what **type2** has \"2xdamage\" to\n",
    "\n",
    "\n",
    "- q5: query the top 5 most common type1s, the minimum height, maximum height, minimum weight and maximum weight of pokemon with those type1s, and what associated type they do \"0.5xdamage\" to\n",
    "\n",
    "\n",
    "**Important note on syntax**: use `double quotes \"\"` when quoting strings **within** your query and wrap the entire query in `single quotes ''` For the column titles that begin with numbers, you need to wrap the column names in double quotes."
   ]
  },
  {
   "cell_type": "code",
   "execution_count": 186,
   "metadata": {},
   "outputs": [],
   "source": [
    "cnx = sqlite3.connect('data/pokemon.db')"
   ]
  },
  {
   "cell_type": "code",
   "execution_count": 215,
   "metadata": {
    "scrolled": true
   },
   "outputs": [],
   "source": [
    "q1 = 'SELECT * FROM Pokemon WHERE base_experience > 200;'\n",
    "# pd.read_sql(q1, cnx)"
   ]
  },
  {
   "cell_type": "code",
   "execution_count": 190,
   "metadata": {
    "scrolled": true
   },
   "outputs": [],
   "source": [
    "q2 = '''SELECT id, name, type1, type2 FROM Pokemon\n",
    "        WHERE type1 == \"water\" or type2 == \"water\";\n",
    "     '''\n",
    "# pd.read_sql(q2, cnx)"
   ]
  },
  {
   "cell_type": "code",
   "execution_count": 197,
   "metadata": {
    "scrolled": true
   },
   "outputs": [],
   "source": [
    "q3 = '''SELECT AVG(weight) as Average_Weight, type1 as First_Type\n",
    "        FROM Pokemon\n",
    "        GROUP BY First_Type\n",
    "        ORDER BY Average_Weight DESC;\n",
    "        '''\n",
    "# pd.read_sql(q3, cnx)"
   ]
  },
  {
   "cell_type": "code",
   "execution_count": 244,
   "metadata": {
    "scrolled": true
   },
   "outputs": [],
   "source": [
    "q4 = '''SELECT type2, t.'2xdamage' as 'you joking me!?'\n",
    "        FROM Pokemon p\n",
    "        JOIN types t\n",
    "        on p.type2 = t.name\n",
    "        GROUP BY type2;\n",
    "     '''\n",
    "# pd.read_sql(q4, cnx)"
   ]
  },
  {
   "cell_type": "code",
   "execution_count": 239,
   "metadata": {
    "scrolled": true
   },
   "outputs": [
    {
     "data": {
      "text/html": [
       "<div>\n",
       "<style scoped>\n",
       "    .dataframe tbody tr th:only-of-type {\n",
       "        vertical-align: middle;\n",
       "    }\n",
       "\n",
       "    .dataframe tbody tr th {\n",
       "        vertical-align: top;\n",
       "    }\n",
       "\n",
       "    .dataframe thead th {\n",
       "        text-align: right;\n",
       "    }\n",
       "</style>\n",
       "<table border=\"1\" class=\"dataframe\">\n",
       "  <thead>\n",
       "    <tr style=\"text-align: right;\">\n",
       "      <th></th>\n",
       "      <th>Type</th>\n",
       "      <th>COUNT(*)</th>\n",
       "      <th>MIN(height)</th>\n",
       "      <th>MAX(height)</th>\n",
       "      <th>MIN(weight)</th>\n",
       "      <th>MAX(weight)</th>\n",
       "      <th>0.5xdamage</th>\n",
       "    </tr>\n",
       "  </thead>\n",
       "  <tbody>\n",
       "    <tr>\n",
       "      <th>0</th>\n",
       "      <td>bug</td>\n",
       "      <td>12</td>\n",
       "      <td>3</td>\n",
       "      <td>15</td>\n",
       "      <td>29</td>\n",
       "      <td>560</td>\n",
       "      <td>fighting</td>\n",
       "    </tr>\n",
       "    <tr>\n",
       "      <th>1</th>\n",
       "      <td>dragon</td>\n",
       "      <td>3</td>\n",
       "      <td>18</td>\n",
       "      <td>40</td>\n",
       "      <td>33</td>\n",
       "      <td>2100</td>\n",
       "      <td>fire</td>\n",
       "    </tr>\n",
       "    <tr>\n",
       "      <th>2</th>\n",
       "      <td>electric</td>\n",
       "      <td>9</td>\n",
       "      <td>3</td>\n",
       "      <td>16</td>\n",
       "      <td>60</td>\n",
       "      <td>666</td>\n",
       "      <td>flying</td>\n",
       "    </tr>\n",
       "    <tr>\n",
       "      <th>3</th>\n",
       "      <td>fairy</td>\n",
       "      <td>2</td>\n",
       "      <td>6</td>\n",
       "      <td>13</td>\n",
       "      <td>75</td>\n",
       "      <td>400</td>\n",
       "      <td>fighting</td>\n",
       "    </tr>\n",
       "    <tr>\n",
       "      <th>4</th>\n",
       "      <td>fighting</td>\n",
       "      <td>7</td>\n",
       "      <td>5</td>\n",
       "      <td>16</td>\n",
       "      <td>195</td>\n",
       "      <td>1300</td>\n",
       "      <td>rock</td>\n",
       "    </tr>\n",
       "  </tbody>\n",
       "</table>\n",
       "</div>"
      ],
      "text/plain": [
       "       Type  COUNT(*)  MIN(height)  MAX(height)  MIN(weight)  MAX(weight)  \\\n",
       "0       bug        12            3           15           29          560   \n",
       "1    dragon         3           18           40           33         2100   \n",
       "2  electric         9            3           16           60          666   \n",
       "3     fairy         2            6           13           75          400   \n",
       "4  fighting         7            5           16          195         1300   \n",
       "\n",
       "  0.5xdamage  \n",
       "0   fighting  \n",
       "1       fire  \n",
       "2     flying  \n",
       "3   fighting  \n",
       "4       rock  "
      ]
     },
     "execution_count": 239,
     "metadata": {},
     "output_type": "execute_result"
    }
   ],
   "source": [
    "#query the top 5 most common type1s, the minimum height, maximum height, \n",
    "#minimum weight and maximum weight of pokemon with those type1s, and  what associated type they do \"0.5xdamage\" to\n",
    "q5 = '''SELECT type1 AS Type, COUNT(*), \n",
    "        MIN(height), MAX(height), \n",
    "        MIN(weight), MAX(weight), t.'0.5xdamage'\n",
    "        FROM Pokemon p\n",
    "        JOIN types t\n",
    "        on p.type1 = t.name\n",
    "        GROUP BY Type\n",
    "        \n",
    "        LIMIT 5\n",
    "        \n",
    "     '''\n",
    "pd.read_sql(q5, cnx)"
   ]
  },
  {
   "cell_type": "markdown",
   "metadata": {},
   "source": [
    "## Section 4: Web Scraping"
   ]
  },
  {
   "cell_type": "markdown",
   "metadata": {},
   "source": [
    "### Accessing Data Using BeautifulSoup\n",
    "\n",
    "Use BeautifulSoup to get quotes, authors, and tags from [Quotes to Read](http://quotes.toscrape.com/).\n",
    "\n",
    "Before answering these questions, go to the site and inspect the page. Make sure to look at what links there are and how the site is structured."
   ]
  },
  {
   "cell_type": "markdown",
   "metadata": {},
   "source": [
    "1. Get the first author and the path for the author's page as a tuple from the [homepage](http://quotes.toscrape.com/)."
   ]
  },
  {
   "cell_type": "code",
   "execution_count": 424,
   "metadata": {},
   "outputs": [
    {
     "data": {
      "text/plain": [
       "'“The world as we have created it is a process of our thinking. It cannot be changed without changing our thinking.”'"
      ]
     },
     "execution_count": 424,
     "metadata": {},
     "output_type": "execute_result"
    }
   ],
   "source": [
    "\n",
    "# Make a get request to retrieve the page\n",
    "html_page = requests.get('http://quotes.toscrape.com/') \n",
    "# Pass the page contents to beautiful soup for parsing\n",
    "soup = BeautifulSoup(html_page.content, 'html.parser')\n",
    "\n",
    "# find quote\n",
    "# quotes = soup.find('div', class_=\"quote\")\n",
    "quotes= soup.findAll(class_=\"text\")\n",
    "quotes[0].text\n",
    "# authors = soup.findAll(class_=\"author\")\n",
    "\n",
    "# links = soup.findAll('span')\n",
    "# links[5].find('a').get('href')"
   ]
  },
  {
   "cell_type": "markdown",
   "metadata": {},
   "source": [
    "2. Write a function to get **all** the authors and href links for the authors from the [homepage](http://quotes.toscrape.com/)\n"
   ]
  },
  {
   "cell_type": "code",
   "execution_count": 435,
   "metadata": {},
   "outputs": [
    {
     "data": {
      "text/plain": [
       "dict_keys(['Albert Einstein'])"
      ]
     },
     "execution_count": 435,
     "metadata": {},
     "output_type": "execute_result"
    }
   ],
   "source": [
    "def authors(url):\n",
    "    '''\n",
    "    input: url\n",
    "    \n",
    "    return: a dictionary of of authors and their urls\n",
    "            {'author_1':'url_of_author_1', 'author_2':'url_of_author_2' ...}\n",
    "    '''\n",
    "    html_page = requests.get(url)\n",
    "    soup = BeautifulSoup(html_page.content, 'html.parser')\n",
    "    authors = soup.findAll(class_=\"author\")\n",
    "    author_list = []\n",
    "    links = soup.findAll('span')\n",
    "    urls = []\n",
    "    for link in links:\n",
    "        try:\n",
    "            urls.append(link.find('a').get('href'))\n",
    "        except:\n",
    "            continue\n",
    "    ind = 0\n",
    "    for author in authors:\n",
    "        authors_url = {}\n",
    "        authors_url[author.text] = f'http://quotes.toscrape.com{urls[ind]}/'\n",
    "        author_list.append(authors_url)\n",
    "        ind += 1\n",
    "    return author_list\n",
    "\n",
    "d = authors('http://quotes.toscrape.com/')\n",
    "d[0].keys()"
   ]
  },
  {
   "cell_type": "code",
   "execution_count": 422,
   "metadata": {},
   "outputs": [
    {
     "name": "stdout",
     "output_type": "stream",
     "text": [
      "\n",
      "\n",
      "[{'Pablo Neruda': 'http://quotes.toscrape.com/author/Pablo-Neruda/'}, {'Ralph Waldo Emerson': 'http://quotes.toscrape.com/author/Ralph-Waldo-Emerson/'}, {'Mother Teresa': 'http://quotes.toscrape.com/author/Mother-Teresa/'}, {'Garrison Keillor': 'http://quotes.toscrape.com/author/Garrison-Keillor/'}, {'Jim Henson': 'http://quotes.toscrape.com/author/Jim-Henson/'}, {'Dr. Seuss': 'http://quotes.toscrape.com/author/Dr-Seuss/'}, {'Albert Einstein': 'http://quotes.toscrape.com/author/Albert-Einstein/'}, {'J.K. Rowling': 'http://quotes.toscrape.com/author/J-K-Rowling/'}, {'Albert Einstein': 'http://quotes.toscrape.com/author/Albert-Einstein/'}, {'Bob Marley': 'http://quotes.toscrape.com/author/Bob-Marley/'}]\n"
     ]
    }
   ],
   "source": [
    "# run this cell to test the function\n",
    "print(authors('http://quotes.toscrape.com/'))\n",
    "print('\\n')\n",
    "print(authors('http://quotes.toscrape.com/page/3'))"
   ]
  },
  {
   "cell_type": "markdown",
   "metadata": {},
   "source": [
    "### Pagination\n",
    "\n",
    "3. Get the first author on each of the first 5 pages of quotes. You can get to the next page with the next button at the bottom of the homepage.\n"
   ]
  },
  {
   "cell_type": "code",
   "execution_count": null,
   "metadata": {},
   "outputs": [],
   "source": [
    "# Your code here\n"
   ]
  },
  {
   "cell_type": "markdown",
   "metadata": {},
   "source": [
    "4. Write a function to get all of the quotes from a page."
   ]
  },
  {
   "cell_type": "code",
   "execution_count": 443,
   "metadata": {},
   "outputs": [
    {
     "data": {
      "text/plain": [
       "{'Albert Einstein': 'http://quotes.toscrape.com/author/Albert-Einstein/',\n",
       " 'quote': '“The world as we have created it is a process of our thinking. It cannot be changed without changing our thinking.”'}"
      ]
     },
     "execution_count": 443,
     "metadata": {},
     "output_type": "execute_result"
    }
   ],
   "source": [
    "def get_some_quotes(url=None):\n",
    "    '''\n",
    "    input: url, number of pages to scrap (just scrape the home page if no argument is passed in)\n",
    "    \n",
    "    return: a list of dictionaries of quotes with their attributes\n",
    "            [{'quote':'quote_1_text', 'author':'url_of_author_1'}, \n",
    "            {'quote':'quote_2_text', 'author':'url_of_author_2', 'quote_tags':[list_of_quote_2_tags]}, ...]\n",
    "    '''\n",
    "    if not url:\n",
    "        url = 'http://quotes.toscrape.com/'\n",
    "    else:\n",
    "        html_page = requests.get(url)\n",
    "        soup = BeautifulSoup(html_page.content, 'html.parser')\n",
    "        quotes = soup.findAll(class_=\"text\")\n",
    "        list_authors_dict = authors(url)\n",
    "        \n",
    "        ind = 0\n",
    "        for dicti in list_authors_dict:\n",
    "            list_authors_dict[ind]['quote'] = quotes[ind].text\n",
    "            ind += 1\n",
    "    \n",
    "        return list_authors_dict\n",
    "a =get_some_quotes('http://quotes.toscrape.com/')\n",
    "a[0]"
   ]
  },
  {
   "cell_type": "code",
   "execution_count": 441,
   "metadata": {},
   "outputs": [
    {
     "data": {
      "text/plain": [
       "[{'Albert Einstein': 'http://quotes.toscrape.com/author/Albert-Einstein/',\n",
       "  'quote': '“The world as we have created it is a process of our thinking. It cannot be changed without changing our thinking.”'},\n",
       " {'J.K. Rowling': 'http://quotes.toscrape.com/author/J-K-Rowling/',\n",
       "  'quote': '“It is our choices, Harry, that show what we truly are, far more than our abilities.”'},\n",
       " {'Albert Einstein': 'http://quotes.toscrape.com/author/Albert-Einstein/',\n",
       "  'quote': '“There are only two ways to live your life. One is as though nothing is a miracle. The other is as though everything is a miracle.”'},\n",
       " {'Jane Austen': 'http://quotes.toscrape.com/author/Jane-Austen/',\n",
       "  'quote': '“The person, be it gentleman or lady, who has not pleasure in a good novel, must be intolerably stupid.”'},\n",
       " {'Marilyn Monroe': 'http://quotes.toscrape.com/author/Marilyn-Monroe/',\n",
       "  'quote': \"“Imperfection is beauty, madness is genius and it's better to be absolutely ridiculous than absolutely boring.”\"},\n",
       " {'Albert Einstein': 'http://quotes.toscrape.com/author/Albert-Einstein/',\n",
       "  'quote': '“Try not to become a man of success. Rather become a man of value.”'},\n",
       " {'André Gide': 'http://quotes.toscrape.com/author/Andre-Gide/',\n",
       "  'quote': '“It is better to be hated for what you are than to be loved for what you are not.”'},\n",
       " {'Thomas A. Edison': 'http://quotes.toscrape.com/author/Thomas-A-Edison/',\n",
       "  'quote': \"“I have not failed. I've just found 10,000 ways that won't work.”\"},\n",
       " {'Eleanor Roosevelt': 'http://quotes.toscrape.com/author/Eleanor-Roosevelt/',\n",
       "  'quote': \"“A woman is like a tea bag; you never know how strong it is until it's in hot water.”\"},\n",
       " {'Steve Martin': 'http://quotes.toscrape.com/author/Steve-Martin/',\n",
       "  'quote': '“A day without sunshine is like, you know, night.”'}]"
      ]
     },
     "execution_count": 441,
     "metadata": {},
     "output_type": "execute_result"
    }
   ],
   "source": [
    "# # set the function to a variable to use later\n",
    "# quotes_for_mongo = get_some_quotes('http://quotes.toscrape.com/' )\n",
    "# quotes_for_mongo"
   ]
  },
  {
   "cell_type": "markdown",
   "metadata": {},
   "source": [
    "## Part 5: MongoDB"
   ]
  },
  {
   "cell_type": "markdown",
   "metadata": {},
   "source": [
    "To do this section, open a connection to a mongo database in the terminal, using `mongod`. You will then **create**, **update**, and **read** from a mongo database.\n",
    "\n",
    "Create and connect to a mongo database."
   ]
  },
  {
   "cell_type": "code",
   "execution_count": null,
   "metadata": {},
   "outputs": [],
   "source": [
    "myclient = pymongo.MongoClient(\"mongodb://127.0.0.1:27017/\")\n",
    "mydb = myclient['quote_database']"
   ]
  },
  {
   "cell_type": "code",
   "execution_count": null,
   "metadata": {},
   "outputs": [],
   "source": [
    "mycollection = mydb['quote_collection']"
   ]
  },
  {
   "cell_type": "markdown",
   "metadata": {},
   "source": [
    "1. Add the quotes you obtained from the `get_some_quotes` function for the [homepage](http://quotes.toscrape.com/) to the mongo database. (You can also use the JSON file `quotes.json` to insert data into the database) To verify that you've successfully inserted the data, query it to obtain the resulting _ids back from the `results` variable. "
   ]
  },
  {
   "cell_type": "code",
   "execution_count": null,
   "metadata": {},
   "outputs": [],
   "source": [
    "# if you were unable to get the data from webscraping in the right format,\n",
    "# uncomment the code below to access a JSON file with the list of dictionaries\n",
    "\n",
    "# with open(r\"data/quotes.json\", \"r\") as r:\n",
    "#     data = json.load(r)"
   ]
  },
  {
   "cell_type": "code",
   "execution_count": null,
   "metadata": {},
   "outputs": [],
   "source": [
    "# use the results variable to confirm the data was inserted\n",
    "results = None"
   ]
  },
  {
   "cell_type": "markdown",
   "metadata": {},
   "source": [
    "2. Query the database for all the quotes written by `'Albert Einstein'`."
   ]
  },
  {
   "cell_type": "code",
   "execution_count": null,
   "metadata": {},
   "outputs": [],
   "source": [
    "q1 = None"
   ]
  },
  {
   "cell_type": "markdown",
   "metadata": {},
   "source": [
    "3. Update Steve Martin's quote with the tags for the quote stored in the variable `steve_martin_tags`."
   ]
  },
  {
   "cell_type": "code",
   "execution_count": null,
   "metadata": {},
   "outputs": [],
   "source": [
    "steve_martin_tags = {'quote_tags': ['change', 'deep-thoughts', 'thinking', 'world']}\n",
    "update_steve = None\n",
    "first_quote_tags = None\n"
   ]
  },
  {
   "cell_type": "markdown",
   "metadata": {},
   "source": [
    "4. Query the database to confirm that  `'Steve Martin'` is updated with `steve_martin_tags`."
   ]
  },
  {
   "cell_type": "code",
   "execution_count": null,
   "metadata": {},
   "outputs": [],
   "source": [
    "q2 = None"
   ]
  }
 ],
 "metadata": {
  "kernelspec": {
   "display_name": "Python 3",
   "language": "python",
   "name": "python3"
  },
  "language_info": {
   "codemirror_mode": {
    "name": "ipython",
    "version": 3
   },
   "file_extension": ".py",
   "mimetype": "text/x-python",
   "name": "python",
   "nbconvert_exporter": "python",
   "pygments_lexer": "ipython3",
   "version": "3.7.2"
  }
 },
 "nbformat": 4,
 "nbformat_minor": 2
}
