{
 "cells": [
  {
   "cell_type": "markdown",
   "metadata": {},
   "source": [
    "# Module 2 Assessment\n",
    "\n",
    "Welcome to your Mod 2 Assessment. You will be tested for your understanding of concepts and ability to solve problems that have been covered in class and in the curriculum.\n",
    "\n",
    "Use any libraries you want to solve the problems in the assessment.\n",
    "\n",
    "You will have up to two hours to complete this assessment.\n",
    "\n",
    "The sections of the assessment are:\n",
    "\n",
    "- Accessing Data Through APIs\n",
    "- Object Oriented Programming\n",
    "- SQL and Relational Databases\n",
    "- HTML, CSS and Web Scraping\n",
    "- Other Database Structures (MongoDB)\n",
    "\n",
    "In this assessment you will be exploring two datasets: Pokemon and Quotes."
   ]
  },
  {
   "cell_type": "code",
   "execution_count": 2,
   "metadata": {},
   "outputs": [],
   "source": [
    "# import the necessary libraries\n",
    "\n",
    "import requests\n",
    "import json\n",
    "import pandas as pd\n",
    "import sqlite3\n",
    "from bs4 import BeautifulSoup\n",
    "import pymongo"
   ]
  },
  {
   "cell_type": "markdown",
   "metadata": {},
   "source": [
    "## Part 1: Accessing Data Through APIs\n",
    "\n",
    "In this section we'll be using PokeAPI to get data on Pokemon. Let's first define functions to get information from the API. Provided below is a URL that will get you started with the first 151 Pokemon! Run the cell below to see what we get."
   ]
  },
  {
   "cell_type": "code",
   "execution_count": 3,
   "metadata": {
    "scrolled": true
   },
   "outputs": [
    {
     "data": {
      "text/plain": [
       "[{'name': 'bulbasaur', 'url': 'https://pokeapi.co/api/v2/pokemon/1/'},\n",
       " {'name': 'ivysaur', 'url': 'https://pokeapi.co/api/v2/pokemon/2/'},\n",
       " {'name': 'venusaur', 'url': 'https://pokeapi.co/api/v2/pokemon/3/'},\n",
       " {'name': 'charmander', 'url': 'https://pokeapi.co/api/v2/pokemon/4/'},\n",
       " {'name': 'charmeleon', 'url': 'https://pokeapi.co/api/v2/pokemon/5/'},\n",
       " {'name': 'charizard', 'url': 'https://pokeapi.co/api/v2/pokemon/6/'},\n",
       " {'name': 'squirtle', 'url': 'https://pokeapi.co/api/v2/pokemon/7/'},\n",
       " {'name': 'wartortle', 'url': 'https://pokeapi.co/api/v2/pokemon/8/'},\n",
       " {'name': 'blastoise', 'url': 'https://pokeapi.co/api/v2/pokemon/9/'},\n",
       " {'name': 'caterpie', 'url': 'https://pokeapi.co/api/v2/pokemon/10/'},\n",
       " {'name': 'metapod', 'url': 'https://pokeapi.co/api/v2/pokemon/11/'},\n",
       " {'name': 'butterfree', 'url': 'https://pokeapi.co/api/v2/pokemon/12/'},\n",
       " {'name': 'weedle', 'url': 'https://pokeapi.co/api/v2/pokemon/13/'},\n",
       " {'name': 'kakuna', 'url': 'https://pokeapi.co/api/v2/pokemon/14/'},\n",
       " {'name': 'beedrill', 'url': 'https://pokeapi.co/api/v2/pokemon/15/'},\n",
       " {'name': 'pidgey', 'url': 'https://pokeapi.co/api/v2/pokemon/16/'},\n",
       " {'name': 'pidgeotto', 'url': 'https://pokeapi.co/api/v2/pokemon/17/'},\n",
       " {'name': 'pidgeot', 'url': 'https://pokeapi.co/api/v2/pokemon/18/'},\n",
       " {'name': 'rattata', 'url': 'https://pokeapi.co/api/v2/pokemon/19/'},\n",
       " {'name': 'raticate', 'url': 'https://pokeapi.co/api/v2/pokemon/20/'},\n",
       " {'name': 'spearow', 'url': 'https://pokeapi.co/api/v2/pokemon/21/'},\n",
       " {'name': 'fearow', 'url': 'https://pokeapi.co/api/v2/pokemon/22/'},\n",
       " {'name': 'ekans', 'url': 'https://pokeapi.co/api/v2/pokemon/23/'},\n",
       " {'name': 'arbok', 'url': 'https://pokeapi.co/api/v2/pokemon/24/'},\n",
       " {'name': 'pikachu', 'url': 'https://pokeapi.co/api/v2/pokemon/25/'},\n",
       " {'name': 'raichu', 'url': 'https://pokeapi.co/api/v2/pokemon/26/'},\n",
       " {'name': 'sandshrew', 'url': 'https://pokeapi.co/api/v2/pokemon/27/'},\n",
       " {'name': 'sandslash', 'url': 'https://pokeapi.co/api/v2/pokemon/28/'},\n",
       " {'name': 'nidoran-f', 'url': 'https://pokeapi.co/api/v2/pokemon/29/'},\n",
       " {'name': 'nidorina', 'url': 'https://pokeapi.co/api/v2/pokemon/30/'},\n",
       " {'name': 'nidoqueen', 'url': 'https://pokeapi.co/api/v2/pokemon/31/'},\n",
       " {'name': 'nidoran-m', 'url': 'https://pokeapi.co/api/v2/pokemon/32/'},\n",
       " {'name': 'nidorino', 'url': 'https://pokeapi.co/api/v2/pokemon/33/'},\n",
       " {'name': 'nidoking', 'url': 'https://pokeapi.co/api/v2/pokemon/34/'},\n",
       " {'name': 'clefairy', 'url': 'https://pokeapi.co/api/v2/pokemon/35/'},\n",
       " {'name': 'clefable', 'url': 'https://pokeapi.co/api/v2/pokemon/36/'},\n",
       " {'name': 'vulpix', 'url': 'https://pokeapi.co/api/v2/pokemon/37/'},\n",
       " {'name': 'ninetales', 'url': 'https://pokeapi.co/api/v2/pokemon/38/'},\n",
       " {'name': 'jigglypuff', 'url': 'https://pokeapi.co/api/v2/pokemon/39/'},\n",
       " {'name': 'wigglytuff', 'url': 'https://pokeapi.co/api/v2/pokemon/40/'},\n",
       " {'name': 'zubat', 'url': 'https://pokeapi.co/api/v2/pokemon/41/'},\n",
       " {'name': 'golbat', 'url': 'https://pokeapi.co/api/v2/pokemon/42/'},\n",
       " {'name': 'oddish', 'url': 'https://pokeapi.co/api/v2/pokemon/43/'},\n",
       " {'name': 'gloom', 'url': 'https://pokeapi.co/api/v2/pokemon/44/'},\n",
       " {'name': 'vileplume', 'url': 'https://pokeapi.co/api/v2/pokemon/45/'},\n",
       " {'name': 'paras', 'url': 'https://pokeapi.co/api/v2/pokemon/46/'},\n",
       " {'name': 'parasect', 'url': 'https://pokeapi.co/api/v2/pokemon/47/'},\n",
       " {'name': 'venonat', 'url': 'https://pokeapi.co/api/v2/pokemon/48/'},\n",
       " {'name': 'venomoth', 'url': 'https://pokeapi.co/api/v2/pokemon/49/'},\n",
       " {'name': 'diglett', 'url': 'https://pokeapi.co/api/v2/pokemon/50/'},\n",
       " {'name': 'dugtrio', 'url': 'https://pokeapi.co/api/v2/pokemon/51/'},\n",
       " {'name': 'meowth', 'url': 'https://pokeapi.co/api/v2/pokemon/52/'},\n",
       " {'name': 'persian', 'url': 'https://pokeapi.co/api/v2/pokemon/53/'},\n",
       " {'name': 'psyduck', 'url': 'https://pokeapi.co/api/v2/pokemon/54/'},\n",
       " {'name': 'golduck', 'url': 'https://pokeapi.co/api/v2/pokemon/55/'},\n",
       " {'name': 'mankey', 'url': 'https://pokeapi.co/api/v2/pokemon/56/'},\n",
       " {'name': 'primeape', 'url': 'https://pokeapi.co/api/v2/pokemon/57/'},\n",
       " {'name': 'growlithe', 'url': 'https://pokeapi.co/api/v2/pokemon/58/'},\n",
       " {'name': 'arcanine', 'url': 'https://pokeapi.co/api/v2/pokemon/59/'},\n",
       " {'name': 'poliwag', 'url': 'https://pokeapi.co/api/v2/pokemon/60/'},\n",
       " {'name': 'poliwhirl', 'url': 'https://pokeapi.co/api/v2/pokemon/61/'},\n",
       " {'name': 'poliwrath', 'url': 'https://pokeapi.co/api/v2/pokemon/62/'},\n",
       " {'name': 'abra', 'url': 'https://pokeapi.co/api/v2/pokemon/63/'},\n",
       " {'name': 'kadabra', 'url': 'https://pokeapi.co/api/v2/pokemon/64/'},\n",
       " {'name': 'alakazam', 'url': 'https://pokeapi.co/api/v2/pokemon/65/'},\n",
       " {'name': 'machop', 'url': 'https://pokeapi.co/api/v2/pokemon/66/'},\n",
       " {'name': 'machoke', 'url': 'https://pokeapi.co/api/v2/pokemon/67/'},\n",
       " {'name': 'machamp', 'url': 'https://pokeapi.co/api/v2/pokemon/68/'},\n",
       " {'name': 'bellsprout', 'url': 'https://pokeapi.co/api/v2/pokemon/69/'},\n",
       " {'name': 'weepinbell', 'url': 'https://pokeapi.co/api/v2/pokemon/70/'},\n",
       " {'name': 'victreebel', 'url': 'https://pokeapi.co/api/v2/pokemon/71/'},\n",
       " {'name': 'tentacool', 'url': 'https://pokeapi.co/api/v2/pokemon/72/'},\n",
       " {'name': 'tentacruel', 'url': 'https://pokeapi.co/api/v2/pokemon/73/'},\n",
       " {'name': 'geodude', 'url': 'https://pokeapi.co/api/v2/pokemon/74/'},\n",
       " {'name': 'graveler', 'url': 'https://pokeapi.co/api/v2/pokemon/75/'},\n",
       " {'name': 'golem', 'url': 'https://pokeapi.co/api/v2/pokemon/76/'},\n",
       " {'name': 'ponyta', 'url': 'https://pokeapi.co/api/v2/pokemon/77/'},\n",
       " {'name': 'rapidash', 'url': 'https://pokeapi.co/api/v2/pokemon/78/'},\n",
       " {'name': 'slowpoke', 'url': 'https://pokeapi.co/api/v2/pokemon/79/'},\n",
       " {'name': 'slowbro', 'url': 'https://pokeapi.co/api/v2/pokemon/80/'},\n",
       " {'name': 'magnemite', 'url': 'https://pokeapi.co/api/v2/pokemon/81/'},\n",
       " {'name': 'magneton', 'url': 'https://pokeapi.co/api/v2/pokemon/82/'},\n",
       " {'name': 'farfetchd', 'url': 'https://pokeapi.co/api/v2/pokemon/83/'},\n",
       " {'name': 'doduo', 'url': 'https://pokeapi.co/api/v2/pokemon/84/'},\n",
       " {'name': 'dodrio', 'url': 'https://pokeapi.co/api/v2/pokemon/85/'},\n",
       " {'name': 'seel', 'url': 'https://pokeapi.co/api/v2/pokemon/86/'},\n",
       " {'name': 'dewgong', 'url': 'https://pokeapi.co/api/v2/pokemon/87/'},\n",
       " {'name': 'grimer', 'url': 'https://pokeapi.co/api/v2/pokemon/88/'},\n",
       " {'name': 'muk', 'url': 'https://pokeapi.co/api/v2/pokemon/89/'},\n",
       " {'name': 'shellder', 'url': 'https://pokeapi.co/api/v2/pokemon/90/'},\n",
       " {'name': 'cloyster', 'url': 'https://pokeapi.co/api/v2/pokemon/91/'},\n",
       " {'name': 'gastly', 'url': 'https://pokeapi.co/api/v2/pokemon/92/'},\n",
       " {'name': 'haunter', 'url': 'https://pokeapi.co/api/v2/pokemon/93/'},\n",
       " {'name': 'gengar', 'url': 'https://pokeapi.co/api/v2/pokemon/94/'},\n",
       " {'name': 'onix', 'url': 'https://pokeapi.co/api/v2/pokemon/95/'},\n",
       " {'name': 'drowzee', 'url': 'https://pokeapi.co/api/v2/pokemon/96/'},\n",
       " {'name': 'hypno', 'url': 'https://pokeapi.co/api/v2/pokemon/97/'},\n",
       " {'name': 'krabby', 'url': 'https://pokeapi.co/api/v2/pokemon/98/'},\n",
       " {'name': 'kingler', 'url': 'https://pokeapi.co/api/v2/pokemon/99/'},\n",
       " {'name': 'voltorb', 'url': 'https://pokeapi.co/api/v2/pokemon/100/'},\n",
       " {'name': 'electrode', 'url': 'https://pokeapi.co/api/v2/pokemon/101/'},\n",
       " {'name': 'exeggcute', 'url': 'https://pokeapi.co/api/v2/pokemon/102/'},\n",
       " {'name': 'exeggutor', 'url': 'https://pokeapi.co/api/v2/pokemon/103/'},\n",
       " {'name': 'cubone', 'url': 'https://pokeapi.co/api/v2/pokemon/104/'},\n",
       " {'name': 'marowak', 'url': 'https://pokeapi.co/api/v2/pokemon/105/'},\n",
       " {'name': 'hitmonlee', 'url': 'https://pokeapi.co/api/v2/pokemon/106/'},\n",
       " {'name': 'hitmonchan', 'url': 'https://pokeapi.co/api/v2/pokemon/107/'},\n",
       " {'name': 'lickitung', 'url': 'https://pokeapi.co/api/v2/pokemon/108/'},\n",
       " {'name': 'koffing', 'url': 'https://pokeapi.co/api/v2/pokemon/109/'},\n",
       " {'name': 'weezing', 'url': 'https://pokeapi.co/api/v2/pokemon/110/'},\n",
       " {'name': 'rhyhorn', 'url': 'https://pokeapi.co/api/v2/pokemon/111/'},\n",
       " {'name': 'rhydon', 'url': 'https://pokeapi.co/api/v2/pokemon/112/'},\n",
       " {'name': 'chansey', 'url': 'https://pokeapi.co/api/v2/pokemon/113/'},\n",
       " {'name': 'tangela', 'url': 'https://pokeapi.co/api/v2/pokemon/114/'},\n",
       " {'name': 'kangaskhan', 'url': 'https://pokeapi.co/api/v2/pokemon/115/'},\n",
       " {'name': 'horsea', 'url': 'https://pokeapi.co/api/v2/pokemon/116/'},\n",
       " {'name': 'seadra', 'url': 'https://pokeapi.co/api/v2/pokemon/117/'},\n",
       " {'name': 'goldeen', 'url': 'https://pokeapi.co/api/v2/pokemon/118/'},\n",
       " {'name': 'seaking', 'url': 'https://pokeapi.co/api/v2/pokemon/119/'},\n",
       " {'name': 'staryu', 'url': 'https://pokeapi.co/api/v2/pokemon/120/'},\n",
       " {'name': 'starmie', 'url': 'https://pokeapi.co/api/v2/pokemon/121/'},\n",
       " {'name': 'mr-mime', 'url': 'https://pokeapi.co/api/v2/pokemon/122/'},\n",
       " {'name': 'scyther', 'url': 'https://pokeapi.co/api/v2/pokemon/123/'},\n",
       " {'name': 'jynx', 'url': 'https://pokeapi.co/api/v2/pokemon/124/'},\n",
       " {'name': 'electabuzz', 'url': 'https://pokeapi.co/api/v2/pokemon/125/'},\n",
       " {'name': 'magmar', 'url': 'https://pokeapi.co/api/v2/pokemon/126/'},\n",
       " {'name': 'pinsir', 'url': 'https://pokeapi.co/api/v2/pokemon/127/'},\n",
       " {'name': 'tauros', 'url': 'https://pokeapi.co/api/v2/pokemon/128/'},\n",
       " {'name': 'magikarp', 'url': 'https://pokeapi.co/api/v2/pokemon/129/'},\n",
       " {'name': 'gyarados', 'url': 'https://pokeapi.co/api/v2/pokemon/130/'},\n",
       " {'name': 'lapras', 'url': 'https://pokeapi.co/api/v2/pokemon/131/'},\n",
       " {'name': 'ditto', 'url': 'https://pokeapi.co/api/v2/pokemon/132/'},\n",
       " {'name': 'eevee', 'url': 'https://pokeapi.co/api/v2/pokemon/133/'},\n",
       " {'name': 'vaporeon', 'url': 'https://pokeapi.co/api/v2/pokemon/134/'},\n",
       " {'name': 'jolteon', 'url': 'https://pokeapi.co/api/v2/pokemon/135/'},\n",
       " {'name': 'flareon', 'url': 'https://pokeapi.co/api/v2/pokemon/136/'},\n",
       " {'name': 'porygon', 'url': 'https://pokeapi.co/api/v2/pokemon/137/'},\n",
       " {'name': 'omanyte', 'url': 'https://pokeapi.co/api/v2/pokemon/138/'},\n",
       " {'name': 'omastar', 'url': 'https://pokeapi.co/api/v2/pokemon/139/'},\n",
       " {'name': 'kabuto', 'url': 'https://pokeapi.co/api/v2/pokemon/140/'},\n",
       " {'name': 'kabutops', 'url': 'https://pokeapi.co/api/v2/pokemon/141/'},\n",
       " {'name': 'aerodactyl', 'url': 'https://pokeapi.co/api/v2/pokemon/142/'},\n",
       " {'name': 'snorlax', 'url': 'https://pokeapi.co/api/v2/pokemon/143/'},\n",
       " {'name': 'articuno', 'url': 'https://pokeapi.co/api/v2/pokemon/144/'},\n",
       " {'name': 'zapdos', 'url': 'https://pokeapi.co/api/v2/pokemon/145/'},\n",
       " {'name': 'moltres', 'url': 'https://pokeapi.co/api/v2/pokemon/146/'},\n",
       " {'name': 'dratini', 'url': 'https://pokeapi.co/api/v2/pokemon/147/'},\n",
       " {'name': 'dragonair', 'url': 'https://pokeapi.co/api/v2/pokemon/148/'},\n",
       " {'name': 'dragonite', 'url': 'https://pokeapi.co/api/v2/pokemon/149/'},\n",
       " {'name': 'mewtwo', 'url': 'https://pokeapi.co/api/v2/pokemon/150/'},\n",
       " {'name': 'mew', 'url': 'https://pokeapi.co/api/v2/pokemon/151/'}]"
      ]
     },
     "execution_count": 3,
     "metadata": {},
     "output_type": "execute_result"
    }
   ],
   "source": [
    "url = 'https://pokeapi.co/api/v2/pokemon/?limit=151'\n",
    "results = requests.get(url).json()['results']\n",
    "results"
   ]
  },
  {
   "cell_type": "markdown",
   "metadata": {},
   "source": [
    "[Read the documentation here](https://pokeapi.co/) for information on navigating this API and use the API to obtain data to answer the following questions.\n",
    "\n",
    "### Accessing Data\n",
    "\n",
    "1. For any **one** Pokemon, retrieve the following information in a dictionary format with the following keys:\n",
    "    - ID\n",
    "    - Name\n",
    "    - Base experience\n",
    "    - Weight\n",
    "    - Height\n",
    "    - Types\n",
    "    - Abilities\n",
    "\n",
    "For `Types` and `Abilities`, you might want to write helper functions to have each attribute just be a list of types and a list of abilities. Your output should look like this:\n",
    "\n",
    "```\n",
    "{'id': 1, \n",
    "'name': 'bulbasaur', \n",
    "'base_experience': 64, \n",
    "'weight': 69, \n",
    "'height': 7, \n",
    "'types': ['poison', 'grass'], \n",
    "'abilities': ['chlorophyll', 'overgrow']}\n",
    "\n",
    "```\n",
    "    \n"
   ]
  },
  {
   "cell_type": "code",
   "execution_count": 21,
   "metadata": {},
   "outputs": [
    {
     "data": {
      "text/plain": [
       "['chlorophyll', 'overgrow']"
      ]
     },
     "execution_count": 21,
     "metadata": {},
     "output_type": "execute_result"
    }
   ],
   "source": [
    "# you may define helper functions for types and abilities here\n",
    "response = requests.get('https://pokeapi.co/api/v2/pokemon/1/')\n",
    "response.json()['abilities']\n",
    "def extract_ability(dict_list):\n",
    "    ability_list = []\n",
    "    for i in dict_list:\n",
    "        ability_list.append(i['ability']['name'])\n",
    "    return ability_list        \n",
    "\n",
    "extract_ability(response.json()['abilities'])"
   ]
  },
  {
   "cell_type": "code",
   "execution_count": 23,
   "metadata": {},
   "outputs": [
    {
     "data": {
      "text/plain": [
       "['poison', 'grass']"
      ]
     },
     "execution_count": 23,
     "metadata": {},
     "output_type": "execute_result"
    }
   ],
   "source": [
    "def extract_type(dict_list):\n",
    "    type_list = []\n",
    "    for i in dict_list:\n",
    "        type_list.append(i['type']['name'])\n",
    "    return type_list\n",
    "\n",
    "extract_type(response.json()['types'])"
   ]
  },
  {
   "cell_type": "code",
   "execution_count": 28,
   "metadata": {},
   "outputs": [],
   "source": [
    "\n",
    "def get_pokedata(url):\n",
    "    \n",
    "    response = requests.get(url)\n",
    "    pokedict = {}\n",
    "    pokejson = response.json()\n",
    "    pokedict['id']= pokejson['id']\n",
    "    pokedict['name']= pokejson['name']\n",
    "    pokedict['base_experience']= pokejson['base_experience']\n",
    "    pokedict['weight']= pokejson['weight']\n",
    "    pokedict['height']= pokejson['height']\n",
    "    pokedict['types']= extract_type(pokejson['types'])\n",
    "    pokedict['abilities']= extract_ability(pokejson['abilities'])\n",
    "    return pokedict"
   ]
  },
  {
   "cell_type": "code",
   "execution_count": 29,
   "metadata": {},
   "outputs": [
    {
     "data": {
      "text/plain": [
       "{'id': 4,\n",
       " 'name': 'charmander',\n",
       " 'base_experience': 62,\n",
       " 'weight': 85,\n",
       " 'height': 6,\n",
       " 'types': ['fire'],\n",
       " 'abilities': ['solar-power', 'blaze']}"
      ]
     },
     "execution_count": 29,
     "metadata": {},
     "output_type": "execute_result"
    }
   ],
   "source": [
    "get_pokedata('https://pokeapi.co/api/v2/pokemon/4/')"
   ]
  },
  {
   "cell_type": "markdown",
   "metadata": {},
   "source": [
    "### Pagination\n",
    "\n",
    "2. Get the same information for the first **151** Pokemon as a list of dictionaries ordered by Pokemon ID. Print the first and last elements of the list. (Hint: Use pagination) Your output should save the list to a variable and look like this:\n",
    "\n",
    "```\n",
    "[{'id': 1, \n",
    "'name': 'bulbasaur', \n",
    "'base_experience': 64, \n",
    "'weight': 69, \n",
    "'height': 7, \n",
    "'types': ['poison', 'grass'], \n",
    "'abilities': ['chlorophyll', 'overgrow']}, \n",
    "{'id': 2, \n",
    "'name': 'ivysaur', \n",
    "'base_experience': 142, \n",
    "'weight': 130, \n",
    "'height': 10, \n",
    "'types': ['poison', 'grass'], \n",
    "'abilities': ['chlorophyll', 'overgrow']}, ... ]\n",
    "\n",
    "```\n",
    "\n"
   ]
  },
  {
   "cell_type": "code",
   "execution_count": null,
   "metadata": {},
   "outputs": [],
   "source": [
    "\"\"\" \n",
    "\n",
    "Assign to \"pokedata\" the list of 151 dictionaries.\n",
    "You may use your function from the previous question.\n",
    "\n",
    "\"\"\"\n",
    "\n",
    "# Your code here\n",
    "\n",
    "\n",
    "\n",
    "pokedata = None\n"
   ]
  },
  {
   "cell_type": "code",
   "execution_count": null,
   "metadata": {},
   "outputs": [],
   "source": [
    "# printing first and last elements\n",
    "\n",
    "print(pokedata[0], pokedata[-1])"
   ]
  },
  {
   "cell_type": "markdown",
   "metadata": {},
   "source": [
    "## Part 2: Object Oriented Programming\n",
    "\n",
    "We're going to use the data gathered in the previous section on APIs for this section on Object Oriented Programming to instantiate Pokemon objects and write instance methods.\n",
    "\n",
    "### Creating a Class\n",
    "\n",
    "1. Create a class called `Pokemon` with an `__init__` method to instantiate the following attributes:\n",
    "    - ID\n",
    "    - Name\n",
    "    - Base experience\n",
    "    - Weight\n",
    "    - Height\n",
    "    - Types\n",
    "    - Abilities\n",
    "    \n",
    "\n"
   ]
  },
  {
   "cell_type": "code",
   "execution_count": null,
   "metadata": {},
   "outputs": [],
   "source": [
    "# if you were unable to get the data from the API in the right format,\n",
    "# uncomment the code below to access a JSON file with the list of dictionaries\n",
    "\n",
    "# with open('data/pokemon.json') as f:  \n",
    "#     pokelist = json.load(f)"
   ]
  },
  {
   "cell_type": "code",
   "execution_count": null,
   "metadata": {},
   "outputs": [],
   "source": [
    "\"\"\"\n",
    "Create your class below with the correct syntax, including an __init__ method.\n",
    "\n",
    "\"\"\"\n",
    "        \n"
   ]
  },
  {
   "cell_type": "markdown",
   "metadata": {},
   "source": [
    "    \n",
    "### Instantiating Objects\n",
    "\n",
    "2. Using the data you obtained from the API, instantiate the first, fourth and seventh Pokemon. Assign them to the variables `bulbasaur`, `charmander` and `squirtle`."
   ]
  },
  {
   "cell_type": "code",
   "execution_count": null,
   "metadata": {},
   "outputs": [],
   "source": [
    "# Your code here\n",
    "\n",
    "\n"
   ]
  },
  {
   "cell_type": "code",
   "execution_count": null,
   "metadata": {},
   "outputs": [],
   "source": [
    "# run this cell to test and check your code\n",
    "# you may need to edit the attribute variable names if you named them differently!\n",
    "\n",
    "def print_pokeinfo(pokemon_object):\n",
    "    o = pokemon_object\n",
    "    print('ID: ' + str(o.ID) + '\\n' +\n",
    "          'Name: ' + o.name.title() + '\\n' +\n",
    "          'Base experience: ' + str(o.exp) + '\\n' +\n",
    "          'Weight: ' + str(o.weight) + '\\n' +\n",
    "          'Height: ' + str(o.height) + '\\n' +\n",
    "          'Types: ' + str(o.types) + '\\n' +\n",
    "          'Abilities: ' + str(o.abilities) + '\\n'\n",
    "         )\n",
    "    \n",
    "print_pokeinfo(bulbasaur)\n",
    "print_pokeinfo(ivysaur)\n",
    "print_pokeinfo(venusaur)"
   ]
  },
  {
   "cell_type": "markdown",
   "metadata": {},
   "source": [
    "### Instance Methods\n",
    "\n",
    "3. Write an instance method within the class `Pokemon` to find the BMI of a Pokemon. BMI is defined by $\\frac{weight}{height^{2}}$ with weight in **kilograms** and height in **meters**. The height and weight data of Pokemon from the API is in **decimeters** and **hectograms** respectively.\n",
    "\n",
    "\n",
    "    1 decimeter = 0.1 meters\n",
    "    1 hectogram = 0.1 kilograms"
   ]
  },
  {
   "cell_type": "code",
   "execution_count": null,
   "metadata": {},
   "outputs": [],
   "source": [
    "# run this cell to test and check your code\n",
    "# you will probably have to rerun the code to instantiate your objects\n",
    "\n",
    "print(bulbasaur.bmi()) # 14.08\n",
    "print(charmander.bmi()) # 23.61\n",
    "print(squirtle.bmi()) # 36"
   ]
  },
  {
   "cell_type": "markdown",
   "metadata": {},
   "source": [
    "## Part 3: SQL and Relational Databases\n",
    "\n",
    "For this section, we've put the Pokemon data into SQL tables. You won't need to use your list of dictionaries or the JSON file for this section. The schema of `pokemon.db` is as follows:\n",
    "\n",
    "<img src=\"data/pokemondb.png\" alt=\"db schema\" style=\"width:500px;\"/>\n",
    "\n",
    "Assign your SQL queries as strings to the variables `q1`, `q2`, etc. and run the cells at the end of this section to print your results as Pandas DataFrames.\n",
    "\n",
    "- q1: query all columns from `Pokemon` the Pokemon that have base_experience above 200  \n",
    "\n",
    "  \n",
    "- q2: query the id, name, type1 and type2 of Pokemon that have **water** types as either their first or second type\n",
    "\n",
    "\n",
    "- q3: query the average weight of Pokemon by their first type in descending order\n",
    "\n",
    "\n",
    "- q4: query the Pokemon name, Pokemon type2, and what **type2** has \"2xdamage\" to\n",
    "\n",
    "\n",
    "- q5: query the top 5 most common type1s, the minimum height, maximum height, minimum weight and maximum weight of pokemon with those type1s, and what associated type they do \"0.5xdamage\" to\n",
    "\n",
    "\n",
    "**Important note on syntax**: use `double quotes \"\"` when quoting strings **within** your query and wrap the entire query in `single quotes ''` For the column titles that begin with numbers, you need to wrap the column names in double quotes."
   ]
  },
  {
   "cell_type": "code",
   "execution_count": null,
   "metadata": {},
   "outputs": [],
   "source": [
    "cnx = sqlite3.connect('data/pokemon.db')"
   ]
  },
  {
   "cell_type": "code",
   "execution_count": null,
   "metadata": {
    "scrolled": true
   },
   "outputs": [],
   "source": [
    "q1 = ''\n",
    "pd.read_sql(q1, cnx)"
   ]
  },
  {
   "cell_type": "code",
   "execution_count": null,
   "metadata": {
    "scrolled": true
   },
   "outputs": [],
   "source": [
    "q2 = ''\n",
    "pd.read_sql(q2, cnx)"
   ]
  },
  {
   "cell_type": "code",
   "execution_count": null,
   "metadata": {
    "scrolled": true
   },
   "outputs": [],
   "source": [
    "q3 = ''\n",
    "pd.read_sql(q3, cnx)"
   ]
  },
  {
   "cell_type": "code",
   "execution_count": null,
   "metadata": {
    "scrolled": true
   },
   "outputs": [],
   "source": [
    "q4 = ''\n",
    "pd.read_sql(q4, cnx)"
   ]
  },
  {
   "cell_type": "code",
   "execution_count": null,
   "metadata": {
    "scrolled": true
   },
   "outputs": [],
   "source": [
    "q5 = ''\n",
    "pd.read_sql(q5, cnx)"
   ]
  },
  {
   "cell_type": "markdown",
   "metadata": {},
   "source": [
    "## Section 4: Web Scraping"
   ]
  },
  {
   "cell_type": "markdown",
   "metadata": {},
   "source": [
    "### Accessing Data Using BeautifulSoup\n",
    "\n",
    "Use BeautifulSoup to get quotes, authors, and tags from [Quotes to Read](http://quotes.toscrape.com/).\n",
    "\n",
    "Before answering these questions, go to the site and inspect the page. Make sure to look at what links there are and how the site is structured."
   ]
  },
  {
   "cell_type": "markdown",
   "metadata": {},
   "source": [
    "1. Get the first author and the path for the author's page as a tuple from the [homepage](http://quotes.toscrape.com/)."
   ]
  },
  {
   "cell_type": "code",
   "execution_count": null,
   "metadata": {},
   "outputs": [],
   "source": [
    "# Make a get request to retrieve the page\n",
    "html_page = requests.get('http://quotes.toscrape.com/') \n",
    "# Pass the page contents to beautiful soup for parsing\n",
    "soup = BeautifulSoup(html_page.content, 'html.parser')\n",
    "\n",
    "# Your code here\n"
   ]
  },
  {
   "cell_type": "markdown",
   "metadata": {},
   "source": [
    "2. Write a function to get **all** the authors and href links for the authors from the [homepage](http://quotes.toscrape.com/)\n"
   ]
  },
  {
   "cell_type": "code",
   "execution_count": null,
   "metadata": {},
   "outputs": [],
   "source": [
    "def authors(url):\n",
    "    '''\n",
    "    input: url\n",
    "    \n",
    "    return: a dictionary of of authors and their urls\n",
    "            {'author_1':'url_of_author_1', 'author_2':'url_of_author_2' ...}\n",
    "    '''\n",
    "    pass"
   ]
  },
  {
   "cell_type": "code",
   "execution_count": null,
   "metadata": {},
   "outputs": [],
   "source": [
    "# run this cell to test the function\n",
    "print(authors('http://quotes.toscrape.com/'))\n",
    "print('\\n')\n",
    "print(authors('http://quotes.toscrape.com/page/3'))"
   ]
  },
  {
   "cell_type": "markdown",
   "metadata": {},
   "source": [
    "### Pagination\n",
    "\n",
    "3. Get the first author on each of the first 5 pages of quotes. You can get to the next page with the next button at the bottom of the homepage.\n"
   ]
  },
  {
   "cell_type": "code",
   "execution_count": null,
   "metadata": {},
   "outputs": [],
   "source": [
    "# Your code here\n"
   ]
  },
  {
   "cell_type": "markdown",
   "metadata": {},
   "source": [
    "4. Write a function to get all of the quotes from a page."
   ]
  },
  {
   "cell_type": "code",
   "execution_count": null,
   "metadata": {},
   "outputs": [],
   "source": [
    "def get_some_quotes(url):\n",
    "    '''\n",
    "    input: url, number of pages to scrap (just scrape the home page if no argument is passed in)\n",
    "    \n",
    "    return: a list of dictionaries of quotes with their attributes\n",
    "            [{'quote':'quote_1_text', 'author':'url_of_author_1'}, \n",
    "            {'quote':'quote_2_text', 'author':'url_of_author_2', 'quote_tags':[list_of_quote_2_tags]}, ...]\n",
    "    '''\n",
    "    pass"
   ]
  },
  {
   "cell_type": "code",
   "execution_count": null,
   "metadata": {},
   "outputs": [],
   "source": [
    "# set the function to a variable to use later\n",
    "quotes_for_mongo = get_some_quotes('http://quotes.toscrape.com/' )\n",
    "quotes_for_mongo"
   ]
  },
  {
   "cell_type": "markdown",
   "metadata": {},
   "source": [
    "## Part 5: MongoDB"
   ]
  },
  {
   "cell_type": "markdown",
   "metadata": {},
   "source": [
    "To do this section, open a connection to a mongo database in the terminal, using `mongod`. You will then **create**, **update**, and **read** from a mongo database.\n",
    "\n",
    "Create and connect to a mongo database."
   ]
  },
  {
   "cell_type": "code",
   "execution_count": null,
   "metadata": {},
   "outputs": [],
   "source": [
    "myclient = pymongo.MongoClient(\"mongodb://127.0.0.1:27017/\")\n",
    "mydb = myclient['quote_database']"
   ]
  },
  {
   "cell_type": "code",
   "execution_count": null,
   "metadata": {},
   "outputs": [],
   "source": [
    "mycollection = mydb['quote_collection']"
   ]
  },
  {
   "cell_type": "markdown",
   "metadata": {},
   "source": [
    "1. Add the quotes you obtained from the `get_some_quotes` function for the [homepage](http://quotes.toscrape.com/) to the mongo database. (You can also use the JSON file `quotes.json` to insert data into the database) To verify that you've successfully inserted the data, query it to obtain the resulting _ids back from the `results` variable. "
   ]
  },
  {
   "cell_type": "code",
   "execution_count": null,
   "metadata": {},
   "outputs": [],
   "source": [
    "# if you were unable to get the data from webscraping in the right format,\n",
    "# uncomment the code below to access a JSON file with the list of dictionaries\n",
    "\n",
    "# with open(r\"data/quotes.json\", \"r\") as r:\n",
    "#     data = json.load(r)"
   ]
  },
  {
   "cell_type": "code",
   "execution_count": null,
   "metadata": {},
   "outputs": [],
   "source": [
    "# use the results variable to confirm the data was inserted\n",
    "results = None"
   ]
  },
  {
   "cell_type": "markdown",
   "metadata": {},
   "source": [
    "2. Query the database for all the quotes written by `'Albert Einstein'`."
   ]
  },
  {
   "cell_type": "code",
   "execution_count": null,
   "metadata": {},
   "outputs": [],
   "source": [
    "q1 = None"
   ]
  },
  {
   "cell_type": "markdown",
   "metadata": {},
   "source": [
    "3. Update Steve Martin's quote with the tags for the quote stored in the variable `steve_martin_tags`."
   ]
  },
  {
   "cell_type": "code",
   "execution_count": null,
   "metadata": {},
   "outputs": [],
   "source": [
    "steve_martin_tags = {'quote_tags': ['change', 'deep-thoughts', 'thinking', 'world']}\n",
    "update_steve = None\n",
    "first_quote_tags = None\n"
   ]
  },
  {
   "cell_type": "markdown",
   "metadata": {},
   "source": [
    "4. Query the database to confirm that  `'Steve Martin'` is updated with `steve_martin_tags`."
   ]
  },
  {
   "cell_type": "code",
   "execution_count": null,
   "metadata": {},
   "outputs": [],
   "source": [
    "q2 = None"
   ]
  }
 ],
 "metadata": {
  "kernelspec": {
   "display_name": "Python 3",
   "language": "python",
   "name": "python3"
  },
  "language_info": {
   "codemirror_mode": {
    "name": "ipython",
    "version": 3
   },
   "file_extension": ".py",
   "mimetype": "text/x-python",
   "name": "python",
   "nbconvert_exporter": "python",
   "pygments_lexer": "ipython3",
   "version": "3.7.4"
  }
 },
 "nbformat": 4,
 "nbformat_minor": 2
}
