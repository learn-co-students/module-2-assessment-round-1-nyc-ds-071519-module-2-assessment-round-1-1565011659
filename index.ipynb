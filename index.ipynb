{
 "cells": [
  {
   "cell_type": "markdown",
   "metadata": {},
   "source": [
    "# Module 2 Assessment\n",
    "\n",
    "Welcome to your Mod 2 Assessment. You will be tested for your understanding of concepts and ability to solve problems that have been covered in class and in the curriculum.\n",
    "\n",
    "Use any libraries you want to solve the problems in the assessment.\n",
    "\n",
    "You will have up to two hours to complete this assessment.\n",
    "\n",
    "The sections of the assessment are:\n",
    "\n",
    "- Accessing Data Through APIs\n",
    "- Object Oriented Programming\n",
    "- SQL and Relational Databases\n",
    "- HTML, CSS and Web Scraping\n",
    "- Other Database Structures (MongoDB)\n",
    "\n",
    "In this assessment you will be exploring two datasets: Pokemon and Quotes."
   ]
  },
  {
   "cell_type": "code",
   "execution_count": null,
   "metadata": {},
   "outputs": [],
   "source": [
    "# import the necessary libraries\n",
    "\n",
    "import requests\n",
    "import json\n",
    "import pandas as pd\n",
    "import sqlite3\n",
    "from bs4 import BeautifulSoup\n",
    "import pymongo"
   ]
  },
  {
   "cell_type": "markdown",
   "metadata": {},
   "source": [
    "## Part 1: Accessing Data Through APIs\n",
    "\n",
    "In this section we'll be using PokeAPI to get data on Pokemon. Let's first define functions to get information from the API. Provided below is a URL that will get you started with the first 151 Pokemon! Run the cell below to see what we get."
   ]
  },
  {
   "cell_type": "code",
   "execution_count": null,
   "metadata": {
    "scrolled": true
   },
   "outputs": [],
   "source": [
    "url = 'https://pokeapi.co/api/v2/pokemon/?limit=151'\n",
    "results = requests.get(url).json()['results']\n",
    "results"
   ]
  },
  {
   "cell_type": "markdown",
   "metadata": {},
   "source": [
    "[Read the documentation here](https://pokeapi.co/) for information on navigating this API and use the API to obtain data to answer the following questions.\n",
    "\n",
    "### Accessing Data\n",
    "\n",
    "1. For any **one** Pokemon, retrieve the following information in a dictionary format with the following keys:\n",
    "    - ID\n",
    "    - Name\n",
    "    - Base experience\n",
    "    - Weight\n",
    "    - Height\n",
    "    - Types\n",
    "    - Abilities\n",
    "\n",
    "For `Types` and `Abilities`, you might want to write helper functions to have each attribute just be a list of types and a list of abilities. Your output should look like this:\n",
    "\n",
    "```\n",
    "{'id': 1, \n",
    "'name': 'bulbasaur', \n",
    "'base_experience': 64, \n",
    "'weight': 69, \n",
    "'height': 7, \n",
    "'types': ['poison', 'grass'], \n",
    "'abilities': ['chlorophyll', 'overgrow']}\n",
    "\n",
    "```\n",
    "    \n"
   ]
  },
  {
   "cell_type": "code",
   "execution_count": null,
   "metadata": {},
   "outputs": [],
   "source": [
    "# you may define helper functions for types and abilities here\n"
   ]
  },
  {
   "cell_type": "code",
   "execution_count": null,
   "metadata": {},
   "outputs": [],
   "source": [
    "\n",
    "def get_pokedata(url):\n",
    "    \n",
    "    \"\"\"\n",
    "    url is a string of the URL that will get you the relevant info from the API\n",
    "    \n",
    "    this function should return the dictionary for ONE pokemon\n",
    "    \n",
    "    \"\"\"\n",
    "    \n",
    "    pass\n"
   ]
  },
  {
   "cell_type": "markdown",
   "metadata": {},
   "source": [
    "### Pagination\n",
    "\n",
    "2. Get the same information for the first **151** Pokemon as a list of dictionaries ordered by Pokemon ID. Print the first and last elements of the list. (Hint: Use pagination) Your output should save the list to a variable and look like this:\n",
    "\n",
    "```\n",
    "[{'id': 1, \n",
    "'name': 'bulbasaur', \n",
    "'base_experience': 64, \n",
    "'weight': 69, \n",
    "'height': 7, \n",
    "'types': ['poison', 'grass'], \n",
    "'abilities': ['chlorophyll', 'overgrow']}, \n",
    "{'id': 2, \n",
    "'name': 'ivysaur', \n",
    "'base_experience': 142, \n",
    "'weight': 130, \n",
    "'height': 10, \n",
    "'types': ['poison', 'grass'], \n",
    "'abilities': ['chlorophyll', 'overgrow']}, ... ]\n",
    "\n",
    "```\n",
    "\n"
   ]
  },
  {
   "cell_type": "code",
   "execution_count": null,
   "metadata": {},
   "outputs": [],
   "source": [
    "\"\"\" \n",
    "\n",
    "Assign to \"pokedata\" the list of 151 dictionaries.\n",
    "You may use your function from the previous question.\n",
    "\n",
    "\"\"\"\n",
    "\n",
    "# Your code here\n",
    "\n",
    "\n",
    "\n",
    "pokedata = None\n"
   ]
  },
  {
   "cell_type": "code",
   "execution_count": null,
   "metadata": {},
   "outputs": [],
   "source": [
    "# printing first and last elements\n",
    "\n",
    "print(pokedata[0], pokedata[-1])"
   ]
  },
  {
   "cell_type": "markdown",
   "metadata": {},
   "source": [
    "## Part 2: Object Oriented Programming\n",
    "\n",
    "We're going to use the data gathered in the previous section on APIs for this section on Object Oriented Programming to instantiate Pokemon objects and write instance methods.\n",
    "\n",
    "### Creating a Class\n",
    "\n",
    "1. Create a class called `Pokemon` with an `__init__` method to instantiate the following attributes:\n",
    "    - ID\n",
    "    - Name\n",
    "    - Base experience\n",
    "    - Weight\n",
    "    - Height\n",
    "    - Types\n",
    "    - Abilities\n",
    "    \n",
    "\n"
   ]
  },
  {
   "cell_type": "code",
   "execution_count": null,
   "metadata": {},
   "outputs": [],
   "source": [
    "# if you were unable to get the data from the API in the right format,\n",
    "# uncomment the code below to access a JSON file with the list of dictionaries\n",
    "\n",
    "# with open('data/pokemon.json') as f:  \n",
    "#     pokelist = json.load(f)"
   ]
  },
  {
   "cell_type": "code",
   "execution_count": null,
   "metadata": {},
   "outputs": [],
   "source": [
    "\"\"\"\n",
    "Create your class below with the correct syntax, including an __init__ method.\n",
    "\n",
    "\"\"\"\n",
    "        \n"
   ]
  },
  {
   "cell_type": "markdown",
   "metadata": {},
   "source": [
    "    \n",
    "### Instantiating Objects\n",
    "\n",
    "2. Using the data you obtained from the API, instantiate the first, fourth and seventh Pokemon. Assign them to the variables `bulbasaur`, `charmander` and `squirtle`."
   ]
  },
  {
   "cell_type": "code",
   "execution_count": null,
   "metadata": {},
   "outputs": [],
   "source": [
    "# Your code here\n",
    "\n",
    "\n"
   ]
  },
  {
   "cell_type": "code",
   "execution_count": null,
   "metadata": {},
   "outputs": [],
   "source": [
    "# run this cell to test and check your code\n",
    "# you may need to edit the attribute variable names if you named them differently!\n",
    "\n",
    "def print_pokeinfo(pokemon_object):\n",
    "    o = pokemon_object\n",
    "    print('ID: ' + str(o.ID) + '\\n' +\n",
    "          'Name: ' + o.name.title() + '\\n' +\n",
    "          'Base experience: ' + str(o.exp) + '\\n' +\n",
    "          'Weight: ' + str(o.weight) + '\\n' +\n",
    "          'Height: ' + str(o.height) + '\\n' +\n",
    "          'Types: ' + str(o.types) + '\\n' +\n",
    "          'Abilities: ' + str(o.abilities) + '\\n'\n",
    "         )\n",
    "    \n",
    "print_pokeinfo(bulbasaur)\n",
    "print_pokeinfo(ivysaur)\n",
    "print_pokeinfo(venusaur)"
   ]
  },
  {
   "cell_type": "markdown",
   "metadata": {},
   "source": [
    "### Instance Methods\n",
    "\n",
    "3. Write an instance method within the class `Pokemon` to find the BMI of a Pokemon. BMI is defined by $\\frac{weight}{height^{2}}$ with weight in **kilograms** and height in **meters**. The height and weight data of Pokemon from the API is in **decimeters** and **hectograms** respectively.\n",
    "\n",
    "\n",
    "    1 decimeter = 0.1 meters\n",
    "    1 hectogram = 0.1 kilograms"
   ]
  },
  {
   "cell_type": "code",
   "execution_count": null,
   "metadata": {},
   "outputs": [],
   "source": [
    "# run this cell to test and check your code\n",
    "# you will probably have to rerun the code to instantiate your objects\n",
    "\n",
    "print(bulbasaur.bmi()) # 14.08\n",
    "print(charmander.bmi()) # 23.61\n",
    "print(squirtle.bmi()) # 36"
   ]
  },
  {
   "cell_type": "markdown",
   "metadata": {},
   "source": [
    "## Part 3: SQL and Relational Databases\n",
    "\n",
    "For this section, we've put the Pokemon data into SQL tables. You won't need to use your list of dictionaries or the JSON file for this section. The schema of `pokemon.db` is as follows:\n",
    "\n",
    "<img src=\"data/pokemondb.png\" alt=\"db schema\" style=\"width:500px;\"/>\n",
    "\n",
    "Assign your SQL queries as strings to the variables `q1`, `q2`, etc. and run the cells at the end of this section to print your results as Pandas DataFrames.\n",
    "\n",
    "- q1: query all columns from `Pokemon` the Pokemon that have base_experience above 200  \n",
    "\n",
    "  \n",
    "- q2: query the id, name, type1 and type2 of Pokemon that have **water** types as either their first or second type\n",
    "\n",
    "\n",
    "- q3: query the average weight of Pokemon by their first type in descending order\n",
    "\n",
    "\n",
    "- q4: query the Pokemon name, Pokemon type2, and what **type2** has \"2xdamage\" to\n",
    "\n",
    "\n",
    "- q5: query the top 5 most common type1s, the minimum height, maximum height, minimum weight and maximum weight of pokemon with those type1s, and what associated type they do \"0.5xdamage\" to\n",
    "\n",
    "\n",
    "**Important note on syntax**: use `double quotes \"\"` when quoting strings **within** your query and wrap the entire query in `single quotes ''` For the column titles that begin with numbers, you need to wrap the column names in double quotes."
   ]
  },
  {
   "cell_type": "code",
   "execution_count": null,
   "metadata": {},
   "outputs": [],
   "source": [
    "cnx = sqlite3.connect('data/pokemon.db')"
   ]
  },
  {
   "cell_type": "code",
   "execution_count": null,
   "metadata": {
    "scrolled": true
   },
   "outputs": [],
   "source": [
    "q1 = ''\n",
    "pd.read_sql(q1, cnx)"
   ]
  },
  {
   "cell_type": "code",
   "execution_count": null,
   "metadata": {
    "scrolled": true
   },
   "outputs": [],
   "source": [
    "q2 = ''\n",
    "pd.read_sql(q2, cnx)"
   ]
  },
  {
   "cell_type": "code",
   "execution_count": null,
   "metadata": {
    "scrolled": true
   },
   "outputs": [],
   "source": [
    "q3 = ''\n",
    "pd.read_sql(q3, cnx)"
   ]
  },
  {
   "cell_type": "code",
   "execution_count": null,
   "metadata": {
    "scrolled": true
   },
   "outputs": [],
   "source": [
    "q4 = ''\n",
    "pd.read_sql(q4, cnx)"
   ]
  },
  {
   "cell_type": "code",
   "execution_count": null,
   "metadata": {
    "scrolled": true
   },
   "outputs": [],
   "source": [
    "q5 = ''\n",
    "pd.read_sql(q5, cnx)"
   ]
  },
  {
   "cell_type": "markdown",
   "metadata": {},
   "source": [
    "## Section 4: Web Scraping"
   ]
  },
  {
   "cell_type": "markdown",
   "metadata": {},
   "source": [
    "### Accessing Data Using BeautifulSoup\n",
    "\n",
    "Use BeautifulSoup to get quotes, authors, and tags from [Quotes to Read](http://quotes.toscrape.com/).\n",
    "\n",
    "Before answering these questions, go to the site and inspect the page. Make sure to look at what links there are and how the site is structured."
   ]
  },
  {
   "cell_type": "markdown",
   "metadata": {},
   "source": [
    "1. Get the first author and the path for the author's page as a tuple from the [homepage](http://quotes.toscrape.com/)."
   ]
  },
  {
   "cell_type": "code",
   "execution_count": null,
   "metadata": {},
   "outputs": [],
   "source": [
    "# Make a get request to retrieve the page\n",
    "html_page = requests.get('http://quotes.toscrape.com/') \n",
    "# Pass the page contents to beautiful soup for parsing\n",
    "soup = BeautifulSoup(html_page.content, 'html.parser')\n",
    "\n",
    "# Your code here\n"
   ]
  },
  {
   "cell_type": "markdown",
   "metadata": {},
   "source": [
    "2. Write a function to get **all** the authors and href links for the authors from the [homepage](http://quotes.toscrape.com/)\n"
   ]
  },
  {
   "cell_type": "code",
   "execution_count": null,
   "metadata": {},
   "outputs": [],
   "source": [
    "def authors(url):\n",
    "    '''\n",
    "    input: url\n",
    "    \n",
    "    return: a dictionary of of authors and their urls\n",
    "            {'author_1':'url_of_author_1', 'author_2':'url_of_author_2' ...}\n",
    "    '''\n",
    "    pass"
   ]
  },
  {
   "cell_type": "code",
   "execution_count": null,
   "metadata": {},
   "outputs": [],
   "source": [
    "# run this cell to test the function\n",
    "print(authors('http://quotes.toscrape.com/'))\n",
    "print('\\n')\n",
    "print(authors('http://quotes.toscrape.com/page/3'))"
   ]
  },
  {
   "cell_type": "markdown",
   "metadata": {},
   "source": [
    "### Pagination\n",
    "\n",
    "3. Get the first author on each of the first 5 pages of quotes. You can get to the next page with the next button at the bottom of the homepage.\n"
   ]
  },
  {
   "cell_type": "code",
   "execution_count": null,
   "metadata": {},
   "outputs": [],
   "source": [
    "# Your code here\n"
   ]
  },
  {
   "cell_type": "markdown",
   "metadata": {},
   "source": [
    "4. Write a function to get all of the quotes from a page."
   ]
  },
  {
   "cell_type": "code",
   "execution_count": null,
   "metadata": {},
   "outputs": [],
   "source": [
    "def get_some_quotes(url):\n",
    "    '''\n",
    "    input: url, number of pages to scrap (just scrape the home page if no argument is passed in)\n",
    "    \n",
    "    return: a list of dictionaries of quotes with their attributes\n",
    "            [{'quote':'quote_1_text', 'author':'url_of_author_1'}, \n",
    "            {'quote':'quote_2_text', 'author':'url_of_author_2', 'quote_tags':[list_of_quote_2_tags]}, ...]\n",
    "    '''\n",
    "    pass"
   ]
  },
  {
   "cell_type": "code",
   "execution_count": null,
   "metadata": {},
   "outputs": [],
   "source": [
    "# set the function to a variable to use later\n",
    "quotes_for_mongo = get_some_quotes('http://quotes.toscrape.com/' )\n",
    "quotes_for_mongo"
   ]
  },
  {
   "cell_type": "markdown",
   "metadata": {},
   "source": [
    "## Part 5: MongoDB"
   ]
  },
  {
   "cell_type": "markdown",
   "metadata": {},
   "source": [
    "To do this section, open a connection to a mongo database in the terminal, using `mongod`. You will then **create**, **update**, and **read** from a mongo database.\n",
    "\n",
    "Create and connect to a mongo database."
   ]
  },
  {
   "cell_type": "code",
   "execution_count": null,
   "metadata": {},
   "outputs": [],
   "source": [
    "myclient = pymongo.MongoClient(\"mongodb://127.0.0.1:27017/\")\n",
    "mydb = myclient['quote_database']"
   ]
  },
  {
   "cell_type": "code",
   "execution_count": null,
   "metadata": {},
   "outputs": [],
   "source": [
    "mycollection = mydb['quote_collection']"
   ]
  },
  {
   "cell_type": "markdown",
   "metadata": {},
   "source": [
    "1. Add the quotes you obtained from the `get_some_quotes` function for the [homepage](http://quotes.toscrape.com/) to the mongo database. (You can also use the JSON file `quotes.json` to insert data into the database) To verify that you've successfully inserted the data, query it to obtain the resulting _ids back from the `results` variable. "
   ]
  },
  {
   "cell_type": "code",
   "execution_count": null,
   "metadata": {},
   "outputs": [],
   "source": [
    "# if you were unable to get the data from webscraping in the right format,\n",
    "# uncomment the code below to access a JSON file with the list of dictionaries\n",
    "\n",
    "# with open(r\"data/quotes.json\", \"r\") as r:\n",
    "#     data = json.load(r)"
   ]
  },
  {
   "cell_type": "code",
   "execution_count": null,
   "metadata": {},
   "outputs": [],
   "source": [
    "# use the results variable to confirm the data was inserted\n",
    "results = None"
   ]
  },
  {
   "cell_type": "markdown",
   "metadata": {},
   "source": [
    "2. Query the database for all the quotes written by `'Albert Einstein'`."
   ]
  },
  {
   "cell_type": "code",
   "execution_count": null,
   "metadata": {},
   "outputs": [],
   "source": [
    "q1 = None"
   ]
  },
  {
   "cell_type": "markdown",
   "metadata": {},
   "source": [
    "3. Update Steve Martin's quote with the tags for the quote stored in the variable `steve_martin_tags`."
   ]
  },
  {
   "cell_type": "code",
   "execution_count": null,
   "metadata": {},
   "outputs": [],
   "source": [
    "steve_martin_tags = {'quote_tags': ['change', 'deep-thoughts', 'thinking', 'world']}\n",
    "update_steve = None\n",
    "first_quote_tags = None\n"
   ]
  },
  {
   "cell_type": "markdown",
   "metadata": {},
   "source": [
    "4. Query the database to confirm that  `'Steve Martin'` is updated with `steve_martin_tags`."
   ]
  },
  {
   "cell_type": "code",
   "execution_count": null,
   "metadata": {},
   "outputs": [],
   "source": [
    "q2 = None"
   ]
  }
 ],
 "metadata": {
  "kernelspec": {
   "display_name": "Python 3",
   "language": "python",
   "name": "python3"
  },
  "language_info": {
   "codemirror_mode": {
    "name": "ipython",
    "version": 3
   },
   "file_extension": ".py",
   "mimetype": "text/x-python",
   "name": "python",
   "nbconvert_exporter": "python",
   "pygments_lexer": "ipython3",
   "version": "3.7.1"
  }
 },
 "nbformat": 4,
 "nbformat_minor": 2
}
